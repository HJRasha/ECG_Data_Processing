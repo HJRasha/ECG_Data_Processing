{
 "cells": [
  {
   "cell_type": "code",
   "execution_count": 2,
   "id": "3c16fe54",
   "metadata": {},
   "outputs": [
    {
     "name": "stdout",
     "output_type": "stream",
     "text": [
      "Decimation complete. Decimated data saved to output_decimated_ecg_data.csv\n"
     ]
    }
   ],
   "source": [
    "import pandas as pd\n",
    "from scipy import signal\n",
    "\n",
    "# Load the CSV file into a DataFrame\n",
    "input_file = r\"C:\\Users\\HP\\AFdatamerged_backup.csv\"\n",
    "output_file = 'output_decimated_ecg_data.csv'\n",
    "\n",
    "# Load the CSV file into a DataFrame\n",
    "df = pd.read_csv(input_file)\n",
    "\n",
    "# Original sampling rate\n",
    "original_sampling_rate = 250  # Hz\n",
    "\n",
    "# Desired new sampling rate\n",
    "new_sampling_rate = 125  # Hz\n",
    "\n",
    "# Calculate decimation factor\n",
    "decimation_factor = int(original_sampling_rate / new_sampling_rate)\n",
    "\n",
    "# Decimate the data using scipy.signal.decimate\n",
    "decimated_data = signal.decimate(df['ECG1'], decimation_factor, ftype='iir', zero_phase=True)\n",
    "\n",
    "# Create a new time array for the decimated data\n",
    "decimated_time = df['Elapsed time'].iloc[::decimation_factor]\n",
    "\n",
    "# Create a DataFrame for the decimated data\n",
    "df_decimated = pd.DataFrame({'Elapsed time': decimated_time, 'Decimated_ECG1': decimated_data})\n",
    "\n",
    "# Save the decimated data to a new CSV file\n",
    "df_decimated.to_csv(output_file, index=False)\n",
    "\n",
    "print(\"Decimation complete. Decimated data saved to\", output_file)\n"
   ]
  },
  {
   "cell_type": "code",
   "execution_count": 3,
   "id": "06b38c80",
   "metadata": {},
   "outputs": [
    {
     "name": "stdout",
     "output_type": "stream",
     "text": [
      "Decimation complete. Decimated data saved to AF_decimated_ecg_data.csv\n"
     ]
    }
   ],
   "source": [
    "import pandas as pd\n",
    "from scipy import signal\n",
    "\n",
    "# Load the CSV file into a DataFrame\n",
    "input_file = r\"C:\\Users\\HP\\AFdatamerged_backup.csv\"\n",
    "output_file = 'AF3_decimated_ecg_data.csv'\n",
    "\n",
    "# Load the CSV file into a DataFrame\n",
    "df = pd.read_csv(input_file)\n",
    "\n",
    "# Original sampling rate\n",
    "original_sampling_rate = 250  # Hz\n",
    "\n",
    "# Desired new sampling rate\n",
    "new_sampling_rate = 125  # Hz\n",
    "\n",
    "# Calculate decimation factor\n",
    "decimation_factor = int(original_sampling_rate / new_sampling_rate)\n",
    "\n",
    "# Decimate the data using scipy.signal.decimate\n",
    "decimated_data = signal.decimate(df['ECG1'], decimation_factor, ftype='iir', zero_phase=True)\n",
    "\n",
    "# Create a new time array for the decimated data\n",
    "decimated_time = df['Elapsed time'].iloc[::decimation_factor]\n",
    "\n",
    "# Create a DataFrame for the decimated data\n",
    "df_decimated = pd.DataFrame({'Time': decimated_time, 'Decimated_ADC_Data': decimated_data})\n",
    "\n",
    "# Save the decimated data to a new CSV file\n",
    "df_decimated.to_csv(output_file, index=False)\n",
    "\n",
    "print(\"Decimation complete. Decimated data saved to\", output_file)\n"
   ]
  },
  {
   "cell_type": "code",
   "execution_count": 12,
   "id": "150ae995",
   "metadata": {},
   "outputs": [
    {
     "name": "stdout",
     "output_type": "stream",
     "text": [
      "Original Time Length: 345000\n",
      "Decimated Time Length: 115000\n",
      "Decimation complete. Decimated data saved to decimated_ecg_data.csv\n"
     ]
    }
   ],
   "source": [
    "import pandas as pd\n",
    "from scipy import signal\n",
    "\n",
    "# Load the CSV file into a DataFrame\n",
    "input_file =  r\"C:\\Users\\HP\\AFdatamerged_backup.csv\"\n",
    "output_file = 'decimated_ecg_data.csv'\n",
    "\n",
    "# Load the CSV file into a DataFrame\n",
    "df = pd.read_csv(input_file)\n",
    "\n",
    "# Original sampling rate\n",
    "original_sampling_rate = 250  # Hz\n",
    "\n",
    "# Desired new sampling rate\n",
    "new_sampling_rate = 125  # Hz\n",
    "\n",
    "# Calculate decimation factor\n",
    "decimation_factor = int(original_sampling_rate / new_sampling_rate)\n",
    "\n",
    "decimation_factor = 3\n",
    "# Decimate the data using scipy.signal.decimate\n",
    "decimated_data = signal.decimate(df['ECG1'], decimation_factor, ftype='iir', zero_phase=True)\n",
    "\n",
    "# Create a new time array for the decimated data\n",
    "original_time = df['Elapsed time']\n",
    "decimated_time = original_time.iloc[::decimation_factor]\n",
    "\n",
    "print(\"Original Time Length:\", len(original_time))\n",
    "print(\"Decimated Time Length:\", len(decimated_time))\n",
    "\n",
    "# Create a DataFrame for the decimated data\n",
    "df_decimated = pd.DataFrame({'Time': decimated_time, 'Decimated_ADC_Data': decimated_data})\n",
    "\n",
    "# Save the decimated data to a new CSV file\n",
    "df_decimated.to_csv(output_file, index=False)\n",
    "\n",
    "print(\"Decimation complete. Decimated data saved to\", output_file)\n"
   ]
  },
  {
   "cell_type": "code",
   "execution_count": null,
   "id": "afd1a6d7",
   "metadata": {},
   "outputs": [],
   "source": []
  },
  {
   "cell_type": "code",
   "execution_count": null,
   "id": "a9f9db5a",
   "metadata": {},
   "outputs": [],
   "source": []
  }
 ],
 "metadata": {
  "kernelspec": {
   "display_name": "Python 3 (ipykernel)",
   "language": "python",
   "name": "python3"
  },
  "language_info": {
   "codemirror_mode": {
    "name": "ipython",
    "version": 3
   },
   "file_extension": ".py",
   "mimetype": "text/x-python",
   "name": "python",
   "nbconvert_exporter": "python",
   "pygments_lexer": "ipython3",
   "version": "3.9.13"
  }
 },
 "nbformat": 4,
 "nbformat_minor": 5
}
