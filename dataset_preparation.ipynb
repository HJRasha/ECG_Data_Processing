{
 "cells": [
  {
   "cell_type": "code",
   "execution_count": 51,
   "id": "d26f4170",
   "metadata": {},
   "outputs": [],
   "source": [
    "from scipy.io import loadmat\n",
    "import pandas as pd"
   ]
  },
  {
   "cell_type": "code",
   "execution_count": 52,
   "id": "0bd5a16f",
   "metadata": {},
   "outputs": [],
   "source": [
    "# Read the CSV file into a DataFrame without specifying column names\n",
    "df1 = pd.read_csv(r\"E:\\Dataset\\training2017\\REFERENCE.csv\" , header=None)"
   ]
  },
  {
   "cell_type": "code",
   "execution_count": 54,
   "id": "92730201",
   "metadata": {},
   "outputs": [
    {
     "name": "stdout",
     "output_type": "stream",
     "text": [
      "The corresponding value for A00001 is N\n",
      "The corresponding value for A00002 is N\n",
      "The corresponding value for A00003 is N\n",
      "The corresponding value for A00004 is A\n",
      "The corresponding value for A00005 is A\n",
      "The corresponding value for A00006 is N\n",
      "The corresponding value for A00007 is N\n",
      "The corresponding value for A00008 is O\n",
      "The corresponding value for A00009 is A\n"
     ]
    }
   ],
   "source": [
    "for i in range(1, 10):\n",
    "    filename = \"A0000\" + str(i)\n",
    "    data = loadmat(r\"E:\\Dataset\\training2017\\\\\" + filename + \".mat\")\n",
    "    x = data['val']\n",
    "    # Specify the name for which you want to find the corresponding value\n",
    "    name_to_find = filename\n",
    "    # Use DataFrame indexing to retrieve the corresponding value\n",
    "    row = df1[df1[0] == name_to_find]\n",
    "    \n",
    "    # Check if the row is not empty and then get the corresponding value\n",
    "    if not row.empty:\n",
    "        corresponding_value = row.iloc[0, 1]\n",
    "        print(f'The corresponding value for {name_to_find} is {corresponding_value}')\n",
    "    df = pd.DataFrame(x)\n",
    "    transposed_df = df.transpose()\n",
    "    \n",
    "    if corresponding_value == \"N\":\n",
    "        transposed_df.to_csv(r\"E:\\Dataset\\training2017\\normal\\\\\" + filename + \".csv\")\n",
    "    if corresponding_value == \"O\":\n",
    "        transposed_df.to_csv(r\"E:\\Dataset\\training2017\\others\\\\\" + filename + \".csv\")\n",
    "    if corresponding_value == \"A\":\n",
    "        transposed_df.to_csv(r\"E:\\Dataset\\training2017\\af\\\\\" + filename + \".csv\")\n",
    "    if corresponding_value == \"~\":\n",
    "        transposed_df.to_csv(r\"E:\\Dataset\\training2017\\noisy\\\\\" + filename + \".csv\")"
   ]
  },
  {
   "cell_type": "code",
   "execution_count": 55,
   "id": "8020196f",
   "metadata": {},
   "outputs": [],
   "source": [
    "for i in range(10, 100):\n",
    "    filename = \"A000\" + str(i)\n",
    "    data = loadmat(r\"E:\\Dataset\\training2017\\\\\" + filename + \".mat\")\n",
    "    x = data['val']\n",
    "    # Specify the name for which you want to find the corresponding value\n",
    "    name_to_find = filename\n",
    "    # Use DataFrame indexing to retrieve the corresponding value\n",
    "    row = df1[df1[0] == name_to_find]\n",
    "    \n",
    "    # Check if the row is not empty and then get the corresponding value\n",
    "    if not row.empty:\n",
    "        corresponding_value = row.iloc[0, 1]\n",
    "    df = pd.DataFrame(x)\n",
    "    transposed_df = df.transpose()\n",
    "    \n",
    "    if corresponding_value == \"N\":\n",
    "        transposed_df.to_csv(r\"E:\\Dataset\\training2017\\normal\\\\\" + filename + \".csv\")\n",
    "    if corresponding_value == \"O\":\n",
    "        transposed_df.to_csv(r\"E:\\Dataset\\training2017\\others\\\\\" + filename + \".csv\")\n",
    "    if corresponding_value == \"A\":\n",
    "        transposed_df.to_csv(r\"E:\\Dataset\\training2017\\af\\\\\" + filename + \".csv\")\n",
    "    if corresponding_value == \"~\":\n",
    "        transposed_df.to_csv(r\"E:\\Dataset\\training2017\\noisy\\\\\" + filename + \".csv\")"
   ]
  },
  {
   "cell_type": "code",
   "execution_count": 56,
   "id": "0c606801",
   "metadata": {},
   "outputs": [],
   "source": [
    "for i in range(100, 1000):\n",
    "    filename = \"A00\" + str(i)\n",
    "    data = loadmat(r\"E:\\Dataset\\training2017\\\\\" + filename + \".mat\")\n",
    "    x = data['val']\n",
    "    # Specify the name for which you want to find the corresponding value\n",
    "    name_to_find = filename\n",
    "    # Use DataFrame indexing to retrieve the corresponding value\n",
    "    row = df1[df1[0] == name_to_find]\n",
    "    \n",
    "    # Check if the row is not empty and then get the corresponding value\n",
    "    if not row.empty:\n",
    "        corresponding_value = row.iloc[0, 1]\n",
    "    df = pd.DataFrame(x)\n",
    "    transposed_df = df.transpose()\n",
    "    \n",
    "    if corresponding_value == \"N\":\n",
    "        transposed_df.to_csv(r\"E:\\Dataset\\training2017\\normal\\\\\" + filename + \".csv\")\n",
    "    if corresponding_value == \"O\":\n",
    "        transposed_df.to_csv(r\"E:\\Dataset\\training2017\\others\\\\\" + filename + \".csv\")\n",
    "    if corresponding_value == \"A\":\n",
    "        transposed_df.to_csv(r\"E:\\Dataset\\training2017\\af\\\\\" + filename + \".csv\")\n",
    "    if corresponding_value == \"~\":\n",
    "        transposed_df.to_csv(r\"E:\\Dataset\\training2017\\noisy\\\\\" + filename + \".csv\")"
   ]
  },
  {
   "cell_type": "code",
   "execution_count": 57,
   "id": "8fddce73",
   "metadata": {},
   "outputs": [],
   "source": [
    "for i in range(1000, 8529):\n",
    "    filename = \"A0\" + str(i)\n",
    "    data = loadmat(r\"E:\\Dataset\\training2017\\\\\" + filename + \".mat\")\n",
    "    x = data['val']\n",
    "    # Specify the name for which you want to find the corresponding value\n",
    "    name_to_find = filename\n",
    "    # Use DataFrame indexing to retrieve the corresponding value\n",
    "    row = df1[df1[0] == name_to_find]\n",
    "    \n",
    "    # Check if the row is not empty and then get the corresponding value\n",
    "    if not row.empty:\n",
    "        corresponding_value = row.iloc[0, 1]\n",
    "    df = pd.DataFrame(x)\n",
    "    transposed_df = df.transpose()\n",
    "    \n",
    "    if corresponding_value == \"N\":\n",
    "        transposed_df.to_csv(r\"E:\\Dataset\\training2017\\normal\\\\\" + filename + \".csv\")\n",
    "    if corresponding_value == \"O\":\n",
    "        transposed_df.to_csv(r\"E:\\Dataset\\training2017\\others\\\\\" + filename + \".csv\")\n",
    "    if corresponding_value == \"A\":\n",
    "        transposed_df.to_csv(r\"E:\\Dataset\\training2017\\af\\\\\" + filename + \".csv\")\n",
    "    if corresponding_value == \"~\":\n",
    "        transposed_df.to_csv(r\"E:\\Dataset\\training2017\\noisy\\\\\" + filename + \".csv\")"
   ]
  }
 ],
 "metadata": {
  "kernelspec": {
   "display_name": "Python 3 (ipykernel)",
   "language": "python",
   "name": "python3"
  },
  "language_info": {
   "codemirror_mode": {
    "name": "ipython",
    "version": 3
   },
   "file_extension": ".py",
   "mimetype": "text/x-python",
   "name": "python",
   "nbconvert_exporter": "python",
   "pygments_lexer": "ipython3",
   "version": "3.9.13"
  }
 },
 "nbformat": 4,
 "nbformat_minor": 5
}
